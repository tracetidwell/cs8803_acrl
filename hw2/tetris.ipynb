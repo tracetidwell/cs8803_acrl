{
 "cells": [
  {
   "cell_type": "code",
   "execution_count": 1,
   "metadata": {},
   "outputs": [],
   "source": [
    "#import matplotlib.pyplot as plt\n",
    "from py4j.java_gateway import JavaGateway\n",
    "import numpy as np\n",
    "import struct\n",
    "#%matplotlib inline"
   ]
  },
  {
   "cell_type": "code",
   "execution_count": 2,
   "metadata": {},
   "outputs": [],
   "source": [
    "#from keras import callbacks\n",
    "#from keras import models\n",
    "#from keras import layers\n",
    "#import keras.backend as K\n",
    "#from keras.utils.np_utils import to_categorical"
   ]
  },
  {
   "cell_type": "code",
   "execution_count": 3,
   "metadata": {},
   "outputs": [],
   "source": [
    "import tensorflow as tf"
   ]
  },
  {
   "cell_type": "code",
   "execution_count": 4,
   "metadata": {},
   "outputs": [
    {
     "data": {
      "text/plain": [
       "True"
      ]
     },
     "execution_count": 4,
     "metadata": {},
     "output_type": "execute_result"
    }
   ],
   "source": [
    "tf.test.is_gpu_available()"
   ]
  },
  {
   "cell_type": "code",
   "execution_count": 5,
   "metadata": {},
   "outputs": [
    {
     "name": "stdout",
     "output_type": "stream",
     "text": [
      "[name: \"/device:CPU:0\"\n",
      "device_type: \"CPU\"\n",
      "memory_limit: 268435456\n",
      "locality {\n",
      "}\n",
      "incarnation: 340490737383304035\n",
      ", name: \"/device:GPU:0\"\n",
      "device_type: \"GPU\"\n",
      "memory_limit: 6706175017\n",
      "locality {\n",
      "  bus_id: 1\n",
      "  links {\n",
      "  }\n",
      "}\n",
      "incarnation: 2139491999318611950\n",
      "physical_device_desc: \"device: 0, name: GeForce GTX 1070, pci bus id: 0000:01:00.0, compute capability: 6.1\"\n",
      "]\n"
     ]
    }
   ],
   "source": [
    "from tensorflow.python.client import device_lib\n",
    "\n",
    "print(device_lib.list_local_devices())"
   ]
  },
  {
   "cell_type": "code",
   "execution_count": 8,
   "metadata": {},
   "outputs": [
    {
     "name": "stdout",
     "output_type": "stream",
     "text": [
      "[[22. 28.]\n",
      " [49. 64.]]\n"
     ]
    }
   ],
   "source": [
    "# Creates a graph.\n",
    "a = tf.constant([1.0, 2.0, 3.0, 4.0, 5.0, 6.0], shape=[2, 3], name='a')\n",
    "b = tf.constant([1.0, 2.0, 3.0, 4.0, 5.0, 6.0], shape=[3, 2], name='b')\n",
    "c = tf.matmul(a, b)\n",
    "# Creates a session with log_device_placement set to True.\n",
    "sess = tf.Session(config=tf.ConfigProto(log_device_placement=True))\n",
    "# Runs the op.\n",
    "print(sess.run(c))"
   ]
  },
  {
   "cell_type": "code",
   "execution_count": 7,
   "metadata": {},
   "outputs": [
    {
     "name": "stdout",
     "output_type": "stream",
     "text": [
      "[[22. 28.]\n",
      " [49. 64.]]\n"
     ]
    }
   ],
   "source": [
    "with tf.device('/CPU:0'):\n",
    "    a = tf.constant([1.0, 2.0, 3.0, 4.0, 5.0, 6.0], shape=[2, 3], name='a')\n",
    "    b = tf.constant([1.0, 2.0, 3.0, 4.0, 5.0, 6.0], shape=[3, 2], name='b')\n",
    "    c = tf.matmul(a, b)\n",
    "    # Creates a session with log_device_placement set to True.\n",
    "    sess = tf.Session(config=tf.ConfigProto(log_device_placement=True))\n",
    "    # Runs the op.\n",
    "    print(sess.run(c))"
   ]
  },
  {
   "cell_type": "code",
   "execution_count": 1035,
   "metadata": {},
   "outputs": [],
   "source": [
    "#from sklearn.model_selection import train_test_split"
   ]
  },
  {
   "cell_type": "code",
   "execution_count": 1036,
   "metadata": {},
   "outputs": [],
   "source": [
    "def get_legal_moves(state, piece=None):\n",
    "    if piece:\n",
    "        return [list(move) for move in list(state.legalMoves(piece))]\n",
    "    else:\n",
    "        return [list(move) for move in list(state.legalMoves())]"
   ]
  },
  {
   "cell_type": "code",
   "execution_count": 1037,
   "metadata": {},
   "outputs": [],
   "source": [
    "early_stopping = callbacks.EarlyStopping(monitor='val_loss', patience=5, verbose=0, mode='auto')"
   ]
  },
  {
   "cell_type": "code",
   "execution_count": null,
   "metadata": {},
   "outputs": [],
   "source": []
  },
  {
   "cell_type": "code",
   "execution_count": 1045,
   "metadata": {},
   "outputs": [],
   "source": [
    "class PolicyGradient:\n",
    "    \n",
    "    def __init__(self, input_dim, output_dim, learning_rate=0.01, gamma=0.99, decay_rate=0.99):\n",
    "        self.input_dim = input_dim\n",
    "        self.output_dim = output_dim\n",
    "        self.lr = learning_rate\n",
    "        self.gamma = gamma\n",
    "        self.decay_rate = decay_rate\n",
    "        self.states = []\n",
    "        self.actions = []\n",
    "        self.rewards = []\n",
    "        self.build_model()\n",
    "        \n",
    "    def pg_loss(self, y_true, y_pred):\n",
    "        neg_log_prob = tf.nn.softmax_cross_entropy_with_logits_v2(logits=model.outputs[0], labels=np.array(self.actions))\n",
    "        return tf.reduce_mean(neg_log_prob * self.discounted_rewards())\n",
    "        \n",
    "    def build_model(self):\n",
    "        model = models.Sequential()\n",
    "        model.add(layers.Dense(64, activation='relu', input_shape=(self.input_dim,)))\n",
    "        model.add(layers.Dense(64, activation='relu'))\n",
    "        model.add(layers.Dense(self.output_dim, activation=None))\n",
    "        model.compile(optimizer='rmsprop', loss=self.pg_loss, metrics=['accuracy'])\n",
    "        #model.compile(optimizer='rmsprop', loss='categorical_crossentropy', metrics=['accuracy'])\n",
    "        self.model = model\n",
    "        \n",
    "    def log_sar(self, s, a, r):\n",
    "        self.states.append(s)\n",
    "        actions = np.zeros(self.output_dim)\n",
    "        actions[a] = 1\n",
    "        self.actions.append(actions)\n",
    "        self.rewards.append(r)\n",
    "        \n",
    "    def choose_action(self, state, legal_moves):\n",
    "        n_moves = len(legal_moves)\n",
    "        probs = K.eval(K.sigmoid(self.model.predict(state[None, :])))\n",
    "        return np.random.choice(n_moves, p=(probs.flatten()[:n_moves] / sum(probs.flatten()[:n_moves])))\n",
    "        #return np.random.choice(len(probs.flatten()), p=probs.flatten())\n",
    "    \n",
    "    def discounted_rewards(self):\n",
    "        discounted_rewards = np.zeros(len(self.rewards))\n",
    "        total_rewards = 0\n",
    "        for t in reversed(range(len(self.rewards))):\n",
    "            total_rewards = total_rewards * self.gamma + self.rewards[t]\n",
    "            discounted_rewards[t] = total_rewards\n",
    "        discounted_rewards -= np.mean(discounted_rewards)\n",
    "        discounted_rewards /= np.std(discounted_rewards)\n",
    "        return discounted_rewards\n",
    "    \n",
    "    def train(self):\n",
    "        #split = int(np.array(self.states).shape[0]*0.2)\n",
    "        #x_train = np.array(self.states)[split:]\n",
    "        #y_train = np.array(self.actions)[split:]\n",
    "        #x_val = np.array(self.states)[:split]\n",
    "        #y_val = np.array(self.actions)[:split]\n",
    "        #model.fit(x_train, y_train, epochs=50, batch_size=512, validation_data=(x_val, y_val), callbacks=[early_stopping], verbose=False)\n",
    "        model.fit(np.array(self.states), np.array(self.actions), epochs=50, batch_size=512, verbose=False)\n",
    "        self.states = []\n",
    "        self.actions = []\n",
    "        self.rewards = []"
   ]
  },
  {
   "cell_type": "code",
   "execution_count": 1046,
   "metadata": {},
   "outputs": [],
   "source": [
    "# class PolicyGradient:\n",
    "    \n",
    "#     def __init__(self, input_dim, output_dim, learning_rate=0.01, gamma=0.99, decay_rate=0.99):\n",
    "#         self.input_dim = input_dim\n",
    "#         self.output_dim = output_dim\n",
    "#         self.lr = learning_rate\n",
    "#         self.gamma = gamma\n",
    "#         self.decay_rate = decay_rate\n",
    "#         self.states = []\n",
    "#         self.actions = []\n",
    "#         self.rewards = []\n",
    "#         self.build_model()\n",
    "#         self.rms_prop_cache = {self.model.trainable_weights[i]: np.zeros(self.model.get_weights()[i].shape) for i in range(len(self.model.trainable_weights))}\n",
    "        \n",
    "        \n",
    "#     def pg_loss(self, y_true, y_pred):\n",
    "#         log_loss = K.categorical_crossentropy(y_true, y_pred)\n",
    "#         return tf.reduce_mean(log_loss * self.discounted_rewards())\n",
    "        \n",
    "#     def build_model(self):\n",
    "#         model = models.Sequential()\n",
    "#         model.add(layers.Dense(64, activation='relu', input_shape=(self.input_dim,)))\n",
    "#         model.add(layers.Dense(64, activation='relu'))\n",
    "#         model.add(layers.Dense(self.output_dim, activation='softmax'))\n",
    "#         #model.compile(optimizer='rmsprop', loss=self.pg_loss, metrics=['accuracy'])\n",
    "#         model.compile(optimizer='rmsprop', loss='categorical_crossentropy', metrics=['accuracy'])\n",
    "#         self.model = model\n",
    "        \n",
    "#     def log_sar(self, s, a, r):\n",
    "#         self.states.append(s)\n",
    "#         actions = np.zeros(self.output_dim)\n",
    "#         actions[a] = 1\n",
    "#         self.actions.append(actions)\n",
    "#         self.rewards.append(r)\n",
    "        \n",
    "#     def choose_action(self, state, legal_moves):\n",
    "#         n_moves = len(legal_moves)\n",
    "#         probs = self.model.predict(state[None, :])\n",
    "#         return np.random.choice(n_moves, p=(probs.flatten()[:n_moves] / sum(probs.flatten()[:n_moves])))\n",
    "#         #return np.random.choice(len(probs.flatten()), p=probs.flatten())\n",
    "    \n",
    "#     def discounted_rewards(self):\n",
    "#         discounted_rewards = np.zeros(len(self.rewards))\n",
    "#         total_rewards = 0\n",
    "#         for t in reversed(range(len(self.rewards))):\n",
    "#             total_rewards = total_rewards * self.gamma + self.rewards[t]\n",
    "#             discounted_rewards[t] = total_rewards\n",
    "#         discounted_rewards -= np.mean(discounted_rewards)\n",
    "#         discounted_rewards /= np.std(discounted_rewards)\n",
    "#         return discounted_rewards\n",
    "    \n",
    "#     def train(self):\n",
    "#         split = int(np.array(self.states).shape[0]*0.2)\n",
    "#         x_train = np.array(self.states)[split:]\n",
    "#         y_train = np.array(self.actions)[split:]\n",
    "#         x_val = np.array(self.states)[:split]\n",
    "#         y_val = np.array(self.actions)[:split]\n",
    "#         model.fit(x_train, y_train, epochs=50, batch_size=512, validation_data=(x_val, y_val), callbacks=[early_stopping])\n",
    "#         #self.states = []\n",
    "#         #self.actions = []\n",
    "#         #self.rewards = []\n",
    "        \n",
    "#     def get_gradients(self):\n",
    "#         gradients = self.model.optimizer.get_gradients(self.model.total_loss, self.model.trainable_weights)\n",
    "#         input_tensors = [self.model.inputs[0], # input data\n",
    "#                          self.model.sample_weights[0], # how much to weight each sample by\n",
    "#                          self.model.targets[0], # labels\n",
    "#                          K.learning_phase(), # train or test mode\n",
    "#         ]\n",
    "#         get_gradients = K.function(inputs=input_tensors, outputs=gradients)\n",
    "#         discounted_actions = (np.array(self.actions) * self.discounted_rewards()[:, None])\n",
    "#         gradients_inputs = [np.array(self.states), [1], discounted_actions, 0]\n",
    "#         return list(zip(self.model.trainable_weights, get_gradients(gradients_inputs)))\n",
    "    \n",
    "#     def update_weights(self):\n",
    "#         grads = self.get_gradients()\n",
    "#         for i, (key, val) in enumerate(grads):\n",
    "#             self.rms_prop_cache[key] = self.decay_rate * self.rms_prop_cache[key] + (1 - self.decay_rate) * val**2\n",
    "#             self.model.get_weights()[i] += self.lr * val / (np.sqrt(self.rms_prop_cache[key]) + 1e-5)\n",
    "#         self.states = []\n",
    "#         self.actions = []\n",
    "#         self.rewards = []"
   ]
  },
  {
   "cell_type": "code",
   "execution_count": null,
   "metadata": {},
   "outputs": [],
   "source": []
  },
  {
   "cell_type": "code",
   "execution_count": 1047,
   "metadata": {},
   "outputs": [],
   "source": [
    "piece_to_binary = {0: [0, 0, 0],\n",
    "                   1: [0, 0, 1],\n",
    "                   2: [0, 1, 0],\n",
    "                   3: [0, 1, 1],\n",
    "                   4: [1, 0, 0], \n",
    "                   5: [1, 0, 1], \n",
    "                   6: [1, 1, 0]}\n",
    "binary_to_piece = {tuple(val): key for key, val in move_to_binary.items()}"
   ]
  },
  {
   "cell_type": "code",
   "execution_count": 1048,
   "metadata": {},
   "outputs": [],
   "source": [
    "gateway = JavaGateway()\n",
    "tetris = gateway.entry_point.getState()"
   ]
  },
  {
   "cell_type": "code",
   "execution_count": 1049,
   "metadata": {},
   "outputs": [],
   "source": [
    "input_dim = tetris.getRows() * tetris.getCols() + 3\n",
    "output_dim = 34\n",
    "n_iter = 50"
   ]
  },
  {
   "cell_type": "code",
   "execution_count": 1050,
   "metadata": {},
   "outputs": [],
   "source": [
    "pg = PolicyGradient(input_dim, output_dim)"
   ]
  },
  {
   "cell_type": "code",
   "execution_count": 1052,
   "metadata": {
    "scrolled": true
   },
   "outputs": [
    {
     "name": "stdout",
     "output_type": "stream",
     "text": [
      "==========================================\n",
      "Episode:  49\n",
      "Reward:  -5000000\n",
      "Mean Reward -100000.0\n",
      "Max reward so far:  -5000000\n"
     ]
    }
   ],
   "source": [
    "allRewards = []\n",
    "total_rewards = 0\n",
    "maximumRewardRecorded = 0\n",
    "\n",
    "for i in range(n_iter):\n",
    "    tetris.resetState()\n",
    "    while not tetris.hasLost():\n",
    "        field = np.frombuffer(tetris.getByteArray(), dtype=np.int32)\n",
    "        state = np.concatenate([np.where(field>0, 1, 0), piece_to_binary[tetris.getNextPiece()]])\n",
    "        moves = get_legal_moves(tetris)\n",
    "        action = pg.choose_action(state, moves)\n",
    "        reward = tetris.makeMove(moves[action][0], moves[action][1])\n",
    "        pg.log_sar(state, action, reward)\n",
    "        \n",
    "episode_rewards_sum = np.sum(pg.rewards)\n",
    "allRewards.append(episode_rewards_sum)\n",
    "total_rewards = np.sum(allRewards)\n",
    "mean_reward = np.divide(total_rewards, i+1)\n",
    "maximumRewardRecorded = np.amax(allRewards)\n",
    "\n",
    "print(\"==========================================\")\n",
    "print(\"Episode: \", i)\n",
    "print(\"Reward: \", episode_rewards_sum)\n",
    "print(\"Mean Reward\", mean_reward)\n",
    "print(\"Max reward so far: \", maximumRewardRecorded)\n",
    "\n",
    "pg.train() "
   ]
  },
  {
   "cell_type": "code",
   "execution_count": 999,
   "metadata": {},
   "outputs": [],
   "source": [
    "tetris.resetState()\n",
    "field = np.frombuffer(tetris.getByteArray(), dtype=np.int32)\n",
    "state = np.concatenate([np.where(field>0, 1, 0), piece_to_binary[tetris.getNextPiece()]])\n",
    "moves = get_legal_moves(tetris)\n",
    "action = pg.choose_action(state, moves)"
   ]
  },
  {
   "cell_type": "code",
   "execution_count": 1000,
   "metadata": {},
   "outputs": [
    {
     "data": {
      "text/plain": [
       "13"
      ]
     },
     "execution_count": 1000,
     "metadata": {},
     "output_type": "execute_result"
    }
   ],
   "source": [
    "tf.device"
   ]
  },
  {
   "cell_type": "code",
   "execution_count": null,
   "metadata": {},
   "outputs": [],
   "source": []
  },
  {
   "cell_type": "code",
   "execution_count": 984,
   "metadata": {},
   "outputs": [],
   "source": [
    "probs = pg.model.predict(state[None, :])"
   ]
  },
  {
   "cell_type": "code",
   "execution_count": 985,
   "metadata": {},
   "outputs": [
    {
     "data": {
      "text/plain": [
       "array([[-0.05230013, -0.08159578, -0.04024404, -0.00033754,  0.00517057,\n",
       "        -0.00026928, -0.05369234,  0.01551773, -0.084693  ,  0.05421113,\n",
       "         0.10457634,  0.05827999,  0.11438889,  0.01350589, -0.1000725 ,\n",
       "        -0.09395342, -0.02666053,  0.01096979,  0.07193859, -0.04679956,\n",
       "        -0.09093128,  0.01282092, -0.00352252, -0.08819553,  0.05701552,\n",
       "         0.00843234, -0.00234996,  0.02852175, -0.01426145,  0.00491546,\n",
       "        -0.01046143, -0.06880352, -0.01703223, -0.00746334]],\n",
       "      dtype=float32)"
      ]
     },
     "execution_count": 985,
     "metadata": {},
     "output_type": "execute_result"
    }
   ],
   "source": [
    "probs"
   ]
  },
  {
   "cell_type": "code",
   "execution_count": 997,
   "metadata": {},
   "outputs": [
    {
     "data": {
      "text/plain": [
       "array([[0.48692796, 0.47961235, 0.48994038, 0.4999156 , 0.50129265,\n",
       "        0.49993265, 0.4865801 , 0.50387937, 0.47883943, 0.5135495 ,\n",
       "        0.5261203 , 0.5145659 , 0.52856606, 0.5033764 , 0.47500274,\n",
       "        0.4765289 , 0.49333528, 0.5027424 , 0.5179769 , 0.48830226,\n",
       "        0.4772828 , 0.5032052 , 0.4991194 , 0.47796538, 0.51425004,\n",
       "        0.50210804, 0.4994125 , 0.50712997, 0.49643466, 0.50122887,\n",
       "        0.49738464, 0.4828059 , 0.49574205, 0.4981342 ]], dtype=float32)"
      ]
     },
     "execution_count": 997,
     "metadata": {},
     "output_type": "execute_result"
    }
   ],
   "source": [
    "K.eval(K.sigmoid(probs))"
   ]
  },
  {
   "cell_type": "code",
   "execution_count": 940,
   "metadata": {},
   "outputs": [
    {
     "data": {
      "text/plain": [
       "array([-6.57091978e-01, -6.94032891e-01, -7.31346944e-01, -7.69037907e-01,\n",
       "       -8.07109586e-01, -8.45565828e-01, -8.84410517e-01, -9.23647576e-01,\n",
       "       -9.63280970e-01, -1.00331470e+00, -1.04375281e+00, -1.08459939e+00,\n",
       "       -1.12585856e+00, -1.16753449e+00, -1.20963138e+00, -1.25215350e+00,\n",
       "       -1.29510514e+00, -1.33849063e+00, -1.38231436e+00, -1.42658075e+00,\n",
       "       -1.47129427e+00,  2.58157026e-01,  2.30461053e-01,  2.02485323e-01,\n",
       "        1.74227009e-01,  1.45683258e-01,  1.16851186e-01,  8.77278816e-02,\n",
       "        5.83104020e-02,  2.85957762e-02, -1.41899744e-03, -3.17369506e-02,\n",
       "       -6.23611457e-02, -9.32946761e-02, -1.24540666e-01, -1.56102273e-01,\n",
       "       -1.87982683e-01, -2.20185118e-01, -2.52712830e-01,  1.48904737e+00,\n",
       "        1.47378464e+00,  1.45836773e+00,  1.44279510e+00,  1.42706516e+00,\n",
       "        1.41117634e+00,  1.39512703e+00,  1.37891560e+00,  1.36254042e+00,\n",
       "        1.34599984e+00,  1.32929218e+00,  1.31241575e+00,  1.29536886e+00,\n",
       "        1.27814977e+00,  1.26075675e+00,  1.24318805e+00])"
      ]
     },
     "execution_count": 940,
     "metadata": {},
     "output_type": "execute_result"
    }
   ],
   "source": [
    "pg.discounted_rewards()"
   ]
  },
  {
   "cell_type": "code",
   "execution_count": 941,
   "metadata": {},
   "outputs": [
    {
     "data": {
      "text/plain": [
       "array([[0., 0., 0., ..., 0., 0., 0.],\n",
       "       [0., 0., 0., ..., 0., 0., 0.],\n",
       "       [0., 0., 0., ..., 0., 0., 0.],\n",
       "       ...,\n",
       "       [0., 0., 1., ..., 0., 0., 0.],\n",
       "       [0., 0., 0., ..., 0., 0., 0.],\n",
       "       [0., 0., 0., ..., 0., 0., 0.]])"
      ]
     },
     "execution_count": 941,
     "metadata": {},
     "output_type": "execute_result"
    }
   ],
   "source": [
    "np.array(pg.actions)"
   ]
  },
  {
   "cell_type": "code",
   "execution_count": 942,
   "metadata": {},
   "outputs": [
    {
     "data": {
      "text/plain": [
       "array([[-0.        , -0.        , -0.        , ..., -0.        ,\n",
       "        -0.        , -0.        ],\n",
       "       [-0.        , -0.        , -0.        , ..., -0.        ,\n",
       "        -0.        , -0.        ],\n",
       "       [-0.        , -0.        , -0.        , ..., -0.        ,\n",
       "        -0.        , -0.        ],\n",
       "       ...,\n",
       "       [ 0.        ,  0.        ,  1.27814977, ...,  0.        ,\n",
       "         0.        ,  0.        ],\n",
       "       [ 0.        ,  0.        ,  0.        , ...,  0.        ,\n",
       "         0.        ,  0.        ],\n",
       "       [ 0.        ,  0.        ,  0.        , ...,  0.        ,\n",
       "         0.        ,  0.        ]])"
      ]
     },
     "execution_count": 942,
     "metadata": {},
     "output_type": "execute_result"
    }
   ],
   "source": [
    "(np.array(pg.actions) * pg.discounted_rewards()[:, None])"
   ]
  },
  {
   "cell_type": "code",
   "execution_count": null,
   "metadata": {},
   "outputs": [],
   "source": []
  },
  {
   "cell_type": "code",
   "execution_count": 914,
   "metadata": {},
   "outputs": [],
   "source": [
    "gradients = pg.model.optimizer.get_gradients(pg.model.total_loss, pg.model.trainable_weights)"
   ]
  },
  {
   "cell_type": "code",
   "execution_count": 915,
   "metadata": {},
   "outputs": [],
   "source": [
    "input_tensors = [pg.model.inputs[0], # input data\n",
    "                 pg.model.sample_weights[0], # how much to weight each sample by\n",
    "                 pg.model.targets[0], # labels\n",
    "                 K.learning_phase(), # train or test mode\n",
    "]\n",
    "\n",
    "get_gradients = K.function(inputs=input_tensors, outputs=gradients)"
   ]
  },
  {
   "cell_type": "code",
   "execution_count": 861,
   "metadata": {},
   "outputs": [],
   "source": [
    "inputs = [np.array(pg.states), [1], np.array(pg.actions), 0]"
   ]
  },
  {
   "cell_type": "code",
   "execution_count": 862,
   "metadata": {},
   "outputs": [
    {
     "data": {
      "text/plain": [
       "array([[-5.9459945e-03, -2.0868776e-03,  4.6095811e-04, ...,\n",
       "         1.2176041e-05,  1.8728647e-04, -5.9732440e-04],\n",
       "       [-8.9348974e-03, -2.9007015e-03,  3.7169934e-04, ...,\n",
       "         4.2192737e-04,  9.7620138e-04, -6.3371408e-04],\n",
       "       [-9.3236081e-03, -3.6692703e-03,  6.2631327e-04, ...,\n",
       "         1.3859002e-03,  9.2979847e-04, -1.4759435e-03],\n",
       "       ...,\n",
       "       [-8.6866645e-03, -3.1647703e-03,  3.4829124e-04, ...,\n",
       "        -7.0223899e-04,  1.6135559e-03, -2.6759827e-03],\n",
       "       [-3.2586919e-03, -1.7304625e-03,  5.7548285e-04, ...,\n",
       "        -3.0119423e-04,  1.4157308e-03, -3.1432020e-04],\n",
       "       [-8.9635234e-03, -2.5400408e-03,  4.5889570e-05, ...,\n",
       "        -3.3217022e-04,  7.7794970e-04, -2.1964838e-03]], dtype=float32)"
      ]
     },
     "execution_count": 862,
     "metadata": {},
     "output_type": "execute_result"
    }
   ],
   "source": [
    "(get_gradients(inputs)[0])"
   ]
  },
  {
   "cell_type": "code",
   "execution_count": 837,
   "metadata": {},
   "outputs": [],
   "source": [
    "gamma = 0.9"
   ]
  },
  {
   "cell_type": "code",
   "execution_count": 863,
   "metadata": {},
   "outputs": [
    {
     "data": {
      "text/plain": [
       "[<keras.layers.core.Dense at 0x1da37891780>,\n",
       " <keras.layers.core.Dense at 0x1da380c9fd0>,\n",
       " <keras.layers.core.Dense at 0x1da3786d9e8>]"
      ]
     },
     "execution_count": 863,
     "metadata": {},
     "output_type": "execute_result"
    }
   ],
   "source": [
    "pg.model.layers"
   ]
  },
  {
   "cell_type": "code",
   "execution_count": 864,
   "metadata": {},
   "outputs": [
    {
     "data": {
      "text/plain": [
       "{<tf.Variable 'dense_44/kernel:0' shape=(213, 64) dtype=float32_ref>: array([[0., 0., 0., ..., 0., 0., 0.],\n",
       "        [0., 0., 0., ..., 0., 0., 0.],\n",
       "        [0., 0., 0., ..., 0., 0., 0.],\n",
       "        ...,\n",
       "        [0., 0., 0., ..., 0., 0., 0.],\n",
       "        [0., 0., 0., ..., 0., 0., 0.],\n",
       "        [0., 0., 0., ..., 0., 0., 0.]]),\n",
       " <tf.Variable 'dense_44/bias:0' shape=(64,) dtype=float32_ref>: array([0., 0., 0., 0., 0., 0., 0., 0., 0., 0., 0., 0., 0., 0., 0., 0., 0.,\n",
       "        0., 0., 0., 0., 0., 0., 0., 0., 0., 0., 0., 0., 0., 0., 0., 0., 0.,\n",
       "        0., 0., 0., 0., 0., 0., 0., 0., 0., 0., 0., 0., 0., 0., 0., 0., 0.,\n",
       "        0., 0., 0., 0., 0., 0., 0., 0., 0., 0., 0., 0., 0.]),\n",
       " <tf.Variable 'dense_45/kernel:0' shape=(64, 64) dtype=float32_ref>: array([[0., 0., 0., ..., 0., 0., 0.],\n",
       "        [0., 0., 0., ..., 0., 0., 0.],\n",
       "        [0., 0., 0., ..., 0., 0., 0.],\n",
       "        ...,\n",
       "        [0., 0., 0., ..., 0., 0., 0.],\n",
       "        [0., 0., 0., ..., 0., 0., 0.],\n",
       "        [0., 0., 0., ..., 0., 0., 0.]]),\n",
       " <tf.Variable 'dense_45/bias:0' shape=(64,) dtype=float32_ref>: array([0., 0., 0., 0., 0., 0., 0., 0., 0., 0., 0., 0., 0., 0., 0., 0., 0.,\n",
       "        0., 0., 0., 0., 0., 0., 0., 0., 0., 0., 0., 0., 0., 0., 0., 0., 0.,\n",
       "        0., 0., 0., 0., 0., 0., 0., 0., 0., 0., 0., 0., 0., 0., 0., 0., 0.,\n",
       "        0., 0., 0., 0., 0., 0., 0., 0., 0., 0., 0., 0., 0.]),\n",
       " <tf.Variable 'dense_46/kernel:0' shape=(64, 34) dtype=float32_ref>: array([[0., 0., 0., ..., 0., 0., 0.],\n",
       "        [0., 0., 0., ..., 0., 0., 0.],\n",
       "        [0., 0., 0., ..., 0., 0., 0.],\n",
       "        ...,\n",
       "        [0., 0., 0., ..., 0., 0., 0.],\n",
       "        [0., 0., 0., ..., 0., 0., 0.],\n",
       "        [0., 0., 0., ..., 0., 0., 0.]]),\n",
       " <tf.Variable 'dense_46/bias:0' shape=(34,) dtype=float32_ref>: array([0., 0., 0., 0., 0., 0., 0., 0., 0., 0., 0., 0., 0., 0., 0., 0., 0.,\n",
       "        0., 0., 0., 0., 0., 0., 0., 0., 0., 0., 0., 0., 0., 0., 0., 0., 0.])}"
      ]
     },
     "execution_count": 864,
     "metadata": {},
     "output_type": "execute_result"
    }
   ],
   "source": [
    "{pg.model.trainable_weights[i]: np.zeros(pg.model.get_weights()[i].shape) for i in range(len(pg.model.trainable_weights))}"
   ]
  },
  {
   "cell_type": "code",
   "execution_count": 807,
   "metadata": {},
   "outputs": [],
   "source": [
    "rms_prop_cache = {}\n",
    "for i in range(6):\n",
    "    rms_prop_cache[pg.model.trainable_weights[i]] = np.zeros(pg.model.get_weights()[i].shape)"
   ]
  },
  {
   "cell_type": "code",
   "execution_count": 875,
   "metadata": {},
   "outputs": [],
   "source": [
    "grads = pg.get_gradients()"
   ]
  },
  {
   "cell_type": "code",
   "execution_count": 876,
   "metadata": {},
   "outputs": [],
   "source": [
    "for i, (key, val) in enumerate(grads):\n",
    "    pg.rms_prop_cache[key] = pg.decay_rate * pg.rms_prop_cache[key] + (1 - pg.decay_rate) * val**2\n",
    "    pg.model.get_weights()[i] += pg.lr * val / (np.sqrt(pg.rms_prop_cache[key]) + 1e-5)"
   ]
  },
  {
   "cell_type": "code",
   "execution_count": null,
   "metadata": {},
   "outputs": [],
   "source": []
  },
  {
   "cell_type": "code",
   "execution_count": 839,
   "metadata": {},
   "outputs": [
    {
     "data": {
      "text/plain": [
       "array([[3.53548489e-06, 4.35505825e-07, 2.12482387e-08, ...,\n",
       "        1.48255973e-11, 3.50762197e-09, 3.56796441e-08],\n",
       "       [7.98323890e-06, 8.41406916e-07, 1.38160408e-08, ...,\n",
       "        1.78022699e-08, 9.52969117e-08, 4.01593532e-08],\n",
       "       [8.69296764e-06, 1.34635445e-06, 3.92268298e-08, ...,\n",
       "        1.92071937e-07, 8.64525234e-08, 2.17840920e-07],\n",
       "       ...,\n",
       "       [7.54581424e-06, 1.00157717e-06, 1.21306787e-08, ...,\n",
       "        4.93139645e-08, 2.60356273e-07, 7.16088323e-07],\n",
       "       [1.06190726e-06, 2.99450079e-07, 3.31180523e-08, ...,\n",
       "        9.07179665e-09, 2.00429369e-07, 9.87971926e-09],\n",
       "       [8.03447529e-06, 6.45180705e-07, 2.10585258e-10, ...,\n",
       "        1.10337055e-08, 6.05205770e-08, 4.82454141e-07]])"
      ]
     },
     "execution_count": 839,
     "metadata": {},
     "output_type": "execute_result"
    }
   ],
   "source": []
  },
  {
   "cell_type": "code",
   "execution_count": 843,
   "metadata": {},
   "outputs": [
    {
     "data": {
      "text/plain": [
       "array([[-5.94599442, -2.08687761,  0.46095811, ...,  0.01217604,\n",
       "         0.18728646, -0.59732438],\n",
       "       [-8.93489705, -2.90070147,  0.37169932, ...,  0.42192737,\n",
       "         0.97620132, -0.63371408],\n",
       "       [-9.32360781, -3.66927015,  0.62631325, ...,  1.38590012,\n",
       "         0.92979844, -1.47594346],\n",
       "       ...,\n",
       "       [-8.68666466, -3.16477017,  0.34829125, ..., -0.70223896,\n",
       "         1.61355583, -2.67598261],\n",
       "       [-3.25869187, -1.73046246,  0.57548282, ..., -0.30119422,\n",
       "         1.41573073, -0.31432019],\n",
       "       [-8.96352358, -2.54004062,  0.04588957, ..., -0.33217023,\n",
       "         0.77794966, -2.19648373]])"
      ]
     },
     "execution_count": 843,
     "metadata": {},
     "output_type": "execute_result"
    }
   ],
   "source": [
    "pg.lr * val / (np.sqrt(rms_prop_cache[key]) + 1e-5)"
   ]
  },
  {
   "cell_type": "code",
   "execution_count": 847,
   "metadata": {},
   "outputs": [],
   "source": []
  },
  {
   "cell_type": "code",
   "execution_count": 848,
   "metadata": {},
   "outputs": [
    {
     "data": {
      "text/plain": [
       "array([[ 0.08740462,  0.05523278, -0.14190304, ..., -0.07093447,\n",
       "        -0.13969295, -0.0912168 ],\n",
       "       [-0.02309598, -0.08283542, -0.12689406, ..., -0.08007182,\n",
       "        -0.01867096,  0.06120569],\n",
       "       [ 0.11393288, -0.06422535,  0.07250626, ...,  0.09786937,\n",
       "        -0.04573769,  0.14054278],\n",
       "       ...,\n",
       "       [ 0.09221661, -0.10187833, -0.0203408 , ...,  0.02046031,\n",
       "        -0.12427407,  0.05350097],\n",
       "       [-0.098893  ,  0.07750121,  0.06017603, ...,  0.00875151,\n",
       "         0.06151143, -0.09341399],\n",
       "       [ 0.12461805, -0.08963294, -0.12624465, ...,  0.13119504,\n",
       "        -0.09563239,  0.04821433]], dtype=float32)"
      ]
     },
     "execution_count": 848,
     "metadata": {},
     "output_type": "execute_result"
    }
   ],
   "source": [
    "pg.model.get_weights()[0]"
   ]
  },
  {
   "cell_type": "code",
   "execution_count": 806,
   "metadata": {},
   "outputs": [
    {
     "data": {
      "text/plain": [
       "[array([[ 0.08740462,  0.05523278, -0.14190304, ..., -0.07093447,\n",
       "         -0.13969295, -0.0912168 ],\n",
       "        [-0.02309598, -0.08283542, -0.12689406, ..., -0.08007182,\n",
       "         -0.01867096,  0.06120569],\n",
       "        [ 0.11393288, -0.06422535,  0.07250626, ...,  0.09786937,\n",
       "         -0.04573769,  0.14054278],\n",
       "        ...,\n",
       "        [ 0.09221661, -0.10187833, -0.0203408 , ...,  0.02046031,\n",
       "         -0.12427407,  0.05350097],\n",
       "        [-0.098893  ,  0.07750121,  0.06017603, ...,  0.00875151,\n",
       "          0.06151143, -0.09341399],\n",
       "        [ 0.12461805, -0.08963294, -0.12624465, ...,  0.13119504,\n",
       "         -0.09563239,  0.04821433]], dtype=float32),\n",
       " array([0., 0., 0., 0., 0., 0., 0., 0., 0., 0., 0., 0., 0., 0., 0., 0., 0.,\n",
       "        0., 0., 0., 0., 0., 0., 0., 0., 0., 0., 0., 0., 0., 0., 0., 0., 0.,\n",
       "        0., 0., 0., 0., 0., 0., 0., 0., 0., 0., 0., 0., 0., 0., 0., 0., 0.,\n",
       "        0., 0., 0., 0., 0., 0., 0., 0., 0., 0., 0., 0., 0.], dtype=float32),\n",
       " array([[ 0.16237243, -0.19294907,  0.14524777, ...,  0.05983405,\n",
       "          0.04149316,  0.05449702],\n",
       "        [-0.17115955,  0.14486445,  0.10525458, ...,  0.20746638,\n",
       "          0.10258256, -0.21088529],\n",
       "        [-0.02782509,  0.11473294,  0.20595296, ..., -0.08620034,\n",
       "         -0.10590646,  0.01135631],\n",
       "        ...,\n",
       "        [-0.09596513,  0.17174749,  0.03077888, ..., -0.1874949 ,\n",
       "          0.10337667, -0.07251509],\n",
       "        [ 0.17916326,  0.05327199, -0.1247808 , ...,  0.09654312,\n",
       "          0.04151155, -0.07326427],\n",
       "        [ 0.09999938, -0.07317044,  0.16019385, ..., -0.12261284,\n",
       "          0.05393295,  0.09270068]], dtype=float32),\n",
       " array([0., 0., 0., 0., 0., 0., 0., 0., 0., 0., 0., 0., 0., 0., 0., 0., 0.,\n",
       "        0., 0., 0., 0., 0., 0., 0., 0., 0., 0., 0., 0., 0., 0., 0., 0., 0.,\n",
       "        0., 0., 0., 0., 0., 0., 0., 0., 0., 0., 0., 0., 0., 0., 0., 0., 0.,\n",
       "        0., 0., 0., 0., 0., 0., 0., 0., 0., 0., 0., 0., 0.], dtype=float32),\n",
       " array([[ 0.2099428 , -0.0686364 ,  0.05951492, ..., -0.00101651,\n",
       "          0.00469698, -0.07720518],\n",
       "        [-0.04455729,  0.20939441,  0.0056598 , ..., -0.00370301,\n",
       "          0.04829521,  0.09413289],\n",
       "        [-0.09408994,  0.15190043,  0.13117243, ...,  0.01923247,\n",
       "          0.05234392,  0.21895935],\n",
       "        ...,\n",
       "        [-0.04203272,  0.1505336 ,  0.15188031, ..., -0.02047026,\n",
       "          0.07643019,  0.11780231],\n",
       "        [ 0.22201745, -0.1387848 ,  0.15850012, ...,  0.03993987,\n",
       "         -0.1018488 ,  0.022218  ],\n",
       "        [-0.12931123, -0.21115902, -0.15476443, ..., -0.07505935,\n",
       "          0.21508153,  0.04526733]], dtype=float32),\n",
       " array([0., 0., 0., 0., 0., 0., 0., 0., 0., 0., 0., 0., 0., 0., 0., 0., 0.,\n",
       "        0., 0., 0., 0., 0., 0., 0., 0., 0., 0., 0., 0., 0., 0., 0., 0., 0.],\n",
       "       dtype=float32)]"
      ]
     },
     "execution_count": 806,
     "metadata": {},
     "output_type": "execute_result"
    }
   ],
   "source": [
    "pg.model.get_weights()"
   ]
  },
  {
   "cell_type": "code",
   "execution_count": null,
   "metadata": {},
   "outputs": [],
   "source": []
  },
  {
   "cell_type": "code",
   "execution_count": 712,
   "metadata": {},
   "outputs": [
    {
     "data": {
      "text/plain": [
       "True"
      ]
     },
     "execution_count": 712,
     "metadata": {},
     "output_type": "execute_result"
    }
   ],
   "source": [
    "tetris.resetState()"
   ]
  },
  {
   "cell_type": "code",
   "execution_count": 713,
   "metadata": {},
   "outputs": [
    {
     "data": {
      "text/plain": [
       "[0, 0, 1]"
      ]
     },
     "execution_count": 713,
     "metadata": {},
     "output_type": "execute_result"
    }
   ],
   "source": [
    "piece_to_binary[tetris.getNextPiece()]"
   ]
  },
  {
   "cell_type": "code",
   "execution_count": 714,
   "metadata": {},
   "outputs": [],
   "source": [
    "moves = get_legal_moves(tetris)"
   ]
  },
  {
   "cell_type": "code",
   "execution_count": 715,
   "metadata": {},
   "outputs": [
    {
     "data": {
      "text/plain": [
       "[[0, 0],\n",
       " [0, 1],\n",
       " [0, 2],\n",
       " [0, 3],\n",
       " [0, 4],\n",
       " [0, 5],\n",
       " [0, 6],\n",
       " [0, 7],\n",
       " [0, 8],\n",
       " [0, 9],\n",
       " [1, 0],\n",
       " [1, 1],\n",
       " [1, 2],\n",
       " [1, 3],\n",
       " [1, 4],\n",
       " [1, 5],\n",
       " [1, 6]]"
      ]
     },
     "execution_count": 715,
     "metadata": {},
     "output_type": "execute_result"
    }
   ],
   "source": [
    "moves"
   ]
  },
  {
   "cell_type": "code",
   "execution_count": 670,
   "metadata": {},
   "outputs": [
    {
     "data": {
      "text/plain": [
       "0"
      ]
     },
     "execution_count": 670,
     "metadata": {},
     "output_type": "execute_result"
    }
   ],
   "source": [
    "tetris.makeMove(1, 7)"
   ]
  },
  {
   "cell_type": "code",
   "execution_count": 382,
   "metadata": {},
   "outputs": [],
   "source": [
    "traj = trajectories[0]"
   ]
  },
  {
   "cell_type": "code",
   "execution_count": 385,
   "metadata": {},
   "outputs": [],
   "source": [
    "t = 0"
   ]
  },
  {
   "cell_type": "code",
   "execution_count": 386,
   "metadata": {},
   "outputs": [
    {
     "data": {
      "text/plain": [
       "(array([0, 0, 0, 0, 0, 0, 0, 0, 0, 0, 0, 0, 0, 0, 0, 0, 0, 0, 0, 0, 0, 0,\n",
       "        0, 0, 0, 0, 0, 0, 0, 0, 0, 0, 0, 0, 0, 0, 0, 0, 0, 0, 0, 0, 0, 0,\n",
       "        0, 0, 0, 0, 0, 0, 0, 0, 0, 0, 0, 0, 0, 0, 0, 0, 0, 0, 0, 0, 0, 0,\n",
       "        0, 0, 0, 0, 0, 0, 0, 0, 0, 0, 0, 0, 0, 0, 0, 0, 0, 0, 0, 0, 0, 0,\n",
       "        0, 0, 0, 0, 0, 0, 0, 0, 0, 0, 0, 0, 0, 0, 0, 0, 0, 0, 0, 0, 0, 0,\n",
       "        0, 0, 0, 0, 0, 0, 0, 0, 0, 0, 0, 0, 0, 0, 0, 0, 0, 0, 0, 0, 0, 0,\n",
       "        0, 0, 0, 0, 0, 0, 0, 0, 0, 0, 0, 0, 0, 0, 0, 0, 0, 0, 0, 0, 0, 0,\n",
       "        0, 0, 0, 0, 0, 0, 0, 0, 0, 0, 0, 0, 0, 0, 0, 0, 0, 0, 0, 0, 0, 0,\n",
       "        0, 0, 0, 0, 0, 0, 0, 0, 0, 0, 0, 0, 0, 0, 0, 0, 0, 0, 0, 0, 0, 0,\n",
       "        0, 0, 0, 0, 0, 0, 0, 0, 0, 0, 0, 0, 1, 0, 0]), [0, 2])"
      ]
     },
     "execution_count": 386,
     "metadata": {},
     "output_type": "execute_result"
    }
   ],
   "source": [
    "traj[t]"
   ]
  },
  {
   "cell_type": "code",
   "execution_count": 398,
   "metadata": {},
   "outputs": [
    {
     "data": {
      "text/plain": [
       "4"
      ]
     },
     "execution_count": 398,
     "metadata": {},
     "output_type": "execute_result"
    }
   ],
   "source": [
    "state.gebinary_to_move[tuple(traj[t][0][-3:])]"
   ]
  },
  {
   "cell_type": "code",
   "execution_count": 414,
   "metadata": {},
   "outputs": [],
   "source": [
    "moves = get_legal_moves(state, binary_to_piece[tuple(traj[t][0][-3:])])"
   ]
  },
  {
   "cell_type": "code",
   "execution_count": 416,
   "metadata": {},
   "outputs": [],
   "source": [
    "j = 0"
   ]
  },
  {
   "cell_type": "code",
   "execution_count": 421,
   "metadata": {},
   "outputs": [],
   "source": [
    "inputs = traj[t][0]"
   ]
  },
  {
   "cell_type": "code",
   "execution_count": 429,
   "metadata": {},
   "outputs": [
    {
     "data": {
      "text/plain": [
       "0.0"
      ]
     },
     "execution_count": 429,
     "metadata": {},
     "output_type": "execute_result"
    }
   ],
   "source": [
    "inputs[0] - sum(boltzmann_distribution(inputs, theta) * inputs[0])"
   ]
  },
  {
   "cell_type": "code",
   "execution_count": null,
   "metadata": {},
   "outputs": [],
   "source": []
  },
  {
   "cell_type": "code",
   "execution_count": null,
   "metadata": {},
   "outputs": [],
   "source": []
  },
  {
   "cell_type": "code",
   "execution_count": null,
   "metadata": {},
   "outputs": [],
   "source": []
  },
  {
   "cell_type": "code",
   "execution_count": null,
   "metadata": {},
   "outputs": [],
   "source": []
  },
  {
   "cell_type": "code",
   "execution_count": null,
   "metadata": {},
   "outputs": [],
   "source": []
  },
  {
   "cell_type": "code",
   "execution_count": 277,
   "metadata": {},
   "outputs": [],
   "source": [
    "theta = np.random.uniform(0, 0.1, (len(inputs), max(move_lens.values())))"
   ]
  },
  {
   "cell_type": "code",
   "execution_count": 293,
   "metadata": {},
   "outputs": [],
   "source": []
  },
  {
   "cell_type": "code",
   "execution_count": 298,
   "metadata": {},
   "outputs": [],
   "source": []
  },
  {
   "cell_type": "code",
   "execution_count": 303,
   "metadata": {},
   "outputs": [
    {
     "data": {
      "text/plain": [
       "1"
      ]
     },
     "execution_count": 303,
     "metadata": {},
     "output_type": "execute_result"
    }
   ],
   "source": []
  },
  {
   "cell_type": "code",
   "execution_count": null,
   "metadata": {},
   "outputs": [],
   "source": []
  },
  {
   "cell_type": "code",
   "execution_count": 268,
   "metadata": {},
   "outputs": [
    {
     "data": {
      "text/plain": [
       "[[0, 0],\n",
       " [0, 1],\n",
       " [0, 2],\n",
       " [0, 3],\n",
       " [0, 4],\n",
       " [0, 5],\n",
       " [0, 6],\n",
       " [0, 7],\n",
       " [0, 8],\n",
       " [1, 0],\n",
       " [1, 1],\n",
       " [1, 2],\n",
       " [1, 3],\n",
       " [1, 4],\n",
       " [1, 5],\n",
       " [1, 6],\n",
       " [1, 7],\n",
       " [2, 0],\n",
       " [2, 1],\n",
       " [2, 2],\n",
       " [2, 3],\n",
       " [2, 4],\n",
       " [2, 5],\n",
       " [2, 6],\n",
       " [2, 7],\n",
       " [2, 8],\n",
       " [3, 0],\n",
       " [3, 1],\n",
       " [3, 2],\n",
       " [3, 3],\n",
       " [3, 4],\n",
       " [3, 5],\n",
       " [3, 6],\n",
       " [3, 7]]"
      ]
     },
     "execution_count": 268,
     "metadata": {},
     "output_type": "execute_result"
    }
   ],
   "source": [
    "[list(move) for move in list(state.legalMoves())]"
   ]
  },
  {
   "cell_type": "code",
   "execution_count": 269,
   "metadata": {},
   "outputs": [],
   "source": []
  },
  {
   "cell_type": "code",
   "execution_count": null,
   "metadata": {},
   "outputs": [],
   "source": []
  },
  {
   "cell_type": "code",
   "execution_count": 80,
   "metadata": {},
   "outputs": [],
   "source": [
    "move[0] = 3\n",
    "move[1] = 1"
   ]
  },
  {
   "cell_type": "code",
   "execution_count": 85,
   "metadata": {},
   "outputs": [
    {
     "data": {
      "text/plain": [
       "21"
      ]
     },
     "execution_count": 85,
     "metadata": {},
     "output_type": "execute_result"
    }
   ],
   "source": [
    "state.getRows()"
   ]
  },
  {
   "cell_type": "code",
   "execution_count": 86,
   "metadata": {},
   "outputs": [
    {
     "data": {
      "text/plain": [
       "10"
      ]
     },
     "execution_count": 86,
     "metadata": {},
     "output_type": "execute_result"
    }
   ],
   "source": [
    "state.getCols()"
   ]
  },
  {
   "cell_type": "code",
   "execution_count": 29,
   "metadata": {},
   "outputs": [
    {
     "data": {
      "text/plain": [
       "0"
      ]
     },
     "execution_count": 29,
     "metadata": {},
     "output_type": "execute_result"
    }
   ],
   "source": [
    "int.from_bytes(state.getByteArray(), byteorder='big')"
   ]
  },
  {
   "cell_type": "code",
   "execution_count": 23,
   "metadata": {},
   "outputs": [
    {
     "data": {
      "text/plain": [
       "21"
      ]
     },
     "execution_count": 23,
     "metadata": {},
     "output_type": "execute_result"
    }
   ],
   "source": [
    "state.getRows()"
   ]
  },
  {
   "cell_type": "code",
   "execution_count": 24,
   "metadata": {},
   "outputs": [
    {
     "data": {
      "text/plain": [
       "10"
      ]
     },
     "execution_count": 24,
     "metadata": {},
     "output_type": "execute_result"
    }
   ],
   "source": [
    "state.getCols()"
   ]
  },
  {
   "cell_type": "code",
   "execution_count": 20,
   "metadata": {},
   "outputs": [
    {
     "ename": "ValueError",
     "evalue": "cannot reshape array of size 840 into shape (21,10)",
     "output_type": "error",
     "traceback": [
      "\u001b[1;31m---------------------------------------------------------------------------\u001b[0m",
      "\u001b[1;31mAttributeError\u001b[0m                            Traceback (most recent call last)",
      "\u001b[1;32m~\\Anaconda3\\envs\\rl\\lib\\site-packages\\numpy\\core\\fromnumeric.py\u001b[0m in \u001b[0;36m_wrapfunc\u001b[1;34m(obj, method, *args, **kwds)\u001b[0m\n\u001b[0;32m     55\u001b[0m     \u001b[1;32mtry\u001b[0m\u001b[1;33m:\u001b[0m\u001b[1;33m\u001b[0m\u001b[0m\n\u001b[1;32m---> 56\u001b[1;33m         \u001b[1;32mreturn\u001b[0m \u001b[0mgetattr\u001b[0m\u001b[1;33m(\u001b[0m\u001b[0mobj\u001b[0m\u001b[1;33m,\u001b[0m \u001b[0mmethod\u001b[0m\u001b[1;33m)\u001b[0m\u001b[1;33m(\u001b[0m\u001b[1;33m*\u001b[0m\u001b[0margs\u001b[0m\u001b[1;33m,\u001b[0m \u001b[1;33m**\u001b[0m\u001b[0mkwds\u001b[0m\u001b[1;33m)\u001b[0m\u001b[1;33m\u001b[0m\u001b[0m\n\u001b[0m\u001b[0;32m     57\u001b[0m \u001b[1;33m\u001b[0m\u001b[0m\n",
      "\u001b[1;31mAttributeError\u001b[0m: 'list' object has no attribute 'reshape'",
      "\nDuring handling of the above exception, another exception occurred:\n",
      "\u001b[1;31mValueError\u001b[0m                                Traceback (most recent call last)",
      "\u001b[1;32m<ipython-input-20-9eb693c00743>\u001b[0m in \u001b[0;36m<module>\u001b[1;34m\u001b[0m\n\u001b[1;32m----> 1\u001b[1;33m \u001b[0mnp\u001b[0m\u001b[1;33m.\u001b[0m\u001b[0mreshape\u001b[0m\u001b[1;33m(\u001b[0m\u001b[0mlist\u001b[0m\u001b[1;33m(\u001b[0m\u001b[0mstate\u001b[0m\u001b[1;33m.\u001b[0m\u001b[0mgetByteArray\u001b[0m\u001b[1;33m(\u001b[0m\u001b[1;33m)\u001b[0m\u001b[1;33m)\u001b[0m\u001b[1;33m,\u001b[0m \u001b[1;33m(\u001b[0m\u001b[0mstate\u001b[0m\u001b[1;33m.\u001b[0m\u001b[0mgetRows\u001b[0m\u001b[1;33m(\u001b[0m\u001b[1;33m)\u001b[0m\u001b[1;33m,\u001b[0m \u001b[0mstate\u001b[0m\u001b[1;33m.\u001b[0m\u001b[0mgetCols\u001b[0m\u001b[1;33m(\u001b[0m\u001b[1;33m)\u001b[0m\u001b[1;33m)\u001b[0m\u001b[1;33m)\u001b[0m\u001b[1;33m\u001b[0m\u001b[0m\n\u001b[0m",
      "\u001b[1;32m~\\Anaconda3\\envs\\rl\\lib\\site-packages\\numpy\\core\\fromnumeric.py\u001b[0m in \u001b[0;36mreshape\u001b[1;34m(a, newshape, order)\u001b[0m\n\u001b[0;32m    290\u001b[0m            [5, 6]])\n\u001b[0;32m    291\u001b[0m     \"\"\"\n\u001b[1;32m--> 292\u001b[1;33m     \u001b[1;32mreturn\u001b[0m \u001b[0m_wrapfunc\u001b[0m\u001b[1;33m(\u001b[0m\u001b[0ma\u001b[0m\u001b[1;33m,\u001b[0m \u001b[1;34m'reshape'\u001b[0m\u001b[1;33m,\u001b[0m \u001b[0mnewshape\u001b[0m\u001b[1;33m,\u001b[0m \u001b[0morder\u001b[0m\u001b[1;33m=\u001b[0m\u001b[0morder\u001b[0m\u001b[1;33m)\u001b[0m\u001b[1;33m\u001b[0m\u001b[0m\n\u001b[0m\u001b[0;32m    293\u001b[0m \u001b[1;33m\u001b[0m\u001b[0m\n\u001b[0;32m    294\u001b[0m \u001b[1;33m\u001b[0m\u001b[0m\n",
      "\u001b[1;32m~\\Anaconda3\\envs\\rl\\lib\\site-packages\\numpy\\core\\fromnumeric.py\u001b[0m in \u001b[0;36m_wrapfunc\u001b[1;34m(obj, method, *args, **kwds)\u001b[0m\n\u001b[0;32m     64\u001b[0m     \u001b[1;31m# a downstream library like 'pandas'.\u001b[0m\u001b[1;33m\u001b[0m\u001b[1;33m\u001b[0m\u001b[0m\n\u001b[0;32m     65\u001b[0m     \u001b[1;32mexcept\u001b[0m \u001b[1;33m(\u001b[0m\u001b[0mAttributeError\u001b[0m\u001b[1;33m,\u001b[0m \u001b[0mTypeError\u001b[0m\u001b[1;33m)\u001b[0m\u001b[1;33m:\u001b[0m\u001b[1;33m\u001b[0m\u001b[0m\n\u001b[1;32m---> 66\u001b[1;33m         \u001b[1;32mreturn\u001b[0m \u001b[0m_wrapit\u001b[0m\u001b[1;33m(\u001b[0m\u001b[0mobj\u001b[0m\u001b[1;33m,\u001b[0m \u001b[0mmethod\u001b[0m\u001b[1;33m,\u001b[0m \u001b[1;33m*\u001b[0m\u001b[0margs\u001b[0m\u001b[1;33m,\u001b[0m \u001b[1;33m**\u001b[0m\u001b[0mkwds\u001b[0m\u001b[1;33m)\u001b[0m\u001b[1;33m\u001b[0m\u001b[0m\n\u001b[0m\u001b[0;32m     67\u001b[0m \u001b[1;33m\u001b[0m\u001b[0m\n\u001b[0;32m     68\u001b[0m \u001b[1;33m\u001b[0m\u001b[0m\n",
      "\u001b[1;32m~\\Anaconda3\\envs\\rl\\lib\\site-packages\\numpy\\core\\fromnumeric.py\u001b[0m in \u001b[0;36m_wrapit\u001b[1;34m(obj, method, *args, **kwds)\u001b[0m\n\u001b[0;32m     44\u001b[0m     \u001b[1;32mexcept\u001b[0m \u001b[0mAttributeError\u001b[0m\u001b[1;33m:\u001b[0m\u001b[1;33m\u001b[0m\u001b[0m\n\u001b[0;32m     45\u001b[0m         \u001b[0mwrap\u001b[0m \u001b[1;33m=\u001b[0m \u001b[1;32mNone\u001b[0m\u001b[1;33m\u001b[0m\u001b[0m\n\u001b[1;32m---> 46\u001b[1;33m     \u001b[0mresult\u001b[0m \u001b[1;33m=\u001b[0m \u001b[0mgetattr\u001b[0m\u001b[1;33m(\u001b[0m\u001b[0masarray\u001b[0m\u001b[1;33m(\u001b[0m\u001b[0mobj\u001b[0m\u001b[1;33m)\u001b[0m\u001b[1;33m,\u001b[0m \u001b[0mmethod\u001b[0m\u001b[1;33m)\u001b[0m\u001b[1;33m(\u001b[0m\u001b[1;33m*\u001b[0m\u001b[0margs\u001b[0m\u001b[1;33m,\u001b[0m \u001b[1;33m**\u001b[0m\u001b[0mkwds\u001b[0m\u001b[1;33m)\u001b[0m\u001b[1;33m\u001b[0m\u001b[0m\n\u001b[0m\u001b[0;32m     47\u001b[0m     \u001b[1;32mif\u001b[0m \u001b[0mwrap\u001b[0m\u001b[1;33m:\u001b[0m\u001b[1;33m\u001b[0m\u001b[0m\n\u001b[0;32m     48\u001b[0m         \u001b[1;32mif\u001b[0m \u001b[1;32mnot\u001b[0m \u001b[0misinstance\u001b[0m\u001b[1;33m(\u001b[0m\u001b[0mresult\u001b[0m\u001b[1;33m,\u001b[0m \u001b[0mmu\u001b[0m\u001b[1;33m.\u001b[0m\u001b[0mndarray\u001b[0m\u001b[1;33m)\u001b[0m\u001b[1;33m:\u001b[0m\u001b[1;33m\u001b[0m\u001b[0m\n",
      "\u001b[1;31mValueError\u001b[0m: cannot reshape array of size 840 into shape (21,10)"
     ]
    }
   ],
   "source": [
    "np.reshape(list(state.getByteArray()), (state.getRows(), state.getCols()))"
   ]
  },
  {
   "cell_type": "code",
   "execution_count": 58,
   "metadata": {},
   "outputs": [
    {
     "data": {
      "text/plain": [
       "21"
      ]
     },
     "execution_count": 58,
     "metadata": {},
     "output_type": "execute_result"
    }
   ],
   "source": [
    "state.getRows()"
   ]
  },
  {
   "cell_type": "code",
   "execution_count": 17,
   "metadata": {},
   "outputs": [
    {
     "data": {
      "text/plain": [
       "10"
      ]
     },
     "execution_count": 17,
     "metadata": {},
     "output_type": "execute_result"
    }
   ],
   "source": [
    "state.getCols()"
   ]
  },
  {
   "cell_type": "code",
   "execution_count": 17,
   "metadata": {},
   "outputs": [],
   "source": [
    "state.makeMove(state.legalMoves()[0])"
   ]
  },
  {
   "cell_type": "code",
   "execution_count": 18,
   "metadata": {},
   "outputs": [
    {
     "ename": "Py4JJavaError",
     "evalue": "An error occurred while calling o1.draw.\n: java.lang.NullPointerException\r\n\tat State.draw(State.java:262)\r\n\tat java.base/jdk.internal.reflect.NativeMethodAccessorImpl.invoke0(Native Method)\r\n\tat java.base/jdk.internal.reflect.NativeMethodAccessorImpl.invoke(NativeMethodAccessorImpl.java:62)\r\n\tat java.base/jdk.internal.reflect.DelegatingMethodAccessorImpl.invoke(DelegatingMethodAccessorImpl.java:43)\r\n\tat java.base/java.lang.reflect.Method.invoke(Method.java:566)\r\n\tat py4j.reflection.MethodInvoker.invoke(MethodInvoker.java:244)\r\n\tat py4j.reflection.ReflectionEngine.invoke(ReflectionEngine.java:357)\r\n\tat py4j.Gateway.invoke(Gateway.java:282)\r\n\tat py4j.commands.AbstractCommand.invokeMethod(AbstractCommand.java:132)\r\n\tat py4j.commands.CallCommand.execute(CallCommand.java:79)\r\n\tat py4j.GatewayConnection.run(GatewayConnection.java:238)\r\n\tat java.base/java.lang.Thread.run(Thread.java:834)\r\n",
     "output_type": "error",
     "traceback": [
      "\u001b[1;31m---------------------------------------------------------------------------\u001b[0m",
      "\u001b[1;31mPy4JJavaError\u001b[0m                             Traceback (most recent call last)",
      "\u001b[1;32m<ipython-input-18-3f634eeb007c>\u001b[0m in \u001b[0;36m<module>\u001b[1;34m\u001b[0m\n\u001b[1;32m----> 1\u001b[1;33m \u001b[0mstate\u001b[0m\u001b[1;33m.\u001b[0m\u001b[0mdraw\u001b[0m\u001b[1;33m(\u001b[0m\u001b[1;33m)\u001b[0m\u001b[1;33m\u001b[0m\u001b[0m\n\u001b[0m",
      "\u001b[1;32m~\\Anaconda3\\envs\\rl\\lib\\site-packages\\py4j\\java_gateway.py\u001b[0m in \u001b[0;36m__call__\u001b[1;34m(self, *args)\u001b[0m\n\u001b[0;32m   1284\u001b[0m         \u001b[0manswer\u001b[0m \u001b[1;33m=\u001b[0m \u001b[0mself\u001b[0m\u001b[1;33m.\u001b[0m\u001b[0mgateway_client\u001b[0m\u001b[1;33m.\u001b[0m\u001b[0msend_command\u001b[0m\u001b[1;33m(\u001b[0m\u001b[0mcommand\u001b[0m\u001b[1;33m)\u001b[0m\u001b[1;33m\u001b[0m\u001b[0m\n\u001b[0;32m   1285\u001b[0m         return_value = get_return_value(\n\u001b[1;32m-> 1286\u001b[1;33m             answer, self.gateway_client, self.target_id, self.name)\n\u001b[0m\u001b[0;32m   1287\u001b[0m \u001b[1;33m\u001b[0m\u001b[0m\n\u001b[0;32m   1288\u001b[0m         \u001b[1;32mfor\u001b[0m \u001b[0mtemp_arg\u001b[0m \u001b[1;32min\u001b[0m \u001b[0mtemp_args\u001b[0m\u001b[1;33m:\u001b[0m\u001b[1;33m\u001b[0m\u001b[0m\n",
      "\u001b[1;32m~\\Anaconda3\\envs\\rl\\lib\\site-packages\\py4j\\protocol.py\u001b[0m in \u001b[0;36mget_return_value\u001b[1;34m(answer, gateway_client, target_id, name)\u001b[0m\n\u001b[0;32m    326\u001b[0m                 raise Py4JJavaError(\n\u001b[0;32m    327\u001b[0m                     \u001b[1;34m\"An error occurred while calling {0}{1}{2}.\\n\"\u001b[0m\u001b[1;33m.\u001b[0m\u001b[1;33m\u001b[0m\u001b[0m\n\u001b[1;32m--> 328\u001b[1;33m                     format(target_id, \".\", name), value)\n\u001b[0m\u001b[0;32m    329\u001b[0m             \u001b[1;32melse\u001b[0m\u001b[1;33m:\u001b[0m\u001b[1;33m\u001b[0m\u001b[0m\n\u001b[0;32m    330\u001b[0m                 raise Py4JError(\n",
      "\u001b[1;31mPy4JJavaError\u001b[0m: An error occurred while calling o1.draw.\n: java.lang.NullPointerException\r\n\tat State.draw(State.java:262)\r\n\tat java.base/jdk.internal.reflect.NativeMethodAccessorImpl.invoke0(Native Method)\r\n\tat java.base/jdk.internal.reflect.NativeMethodAccessorImpl.invoke(NativeMethodAccessorImpl.java:62)\r\n\tat java.base/jdk.internal.reflect.DelegatingMethodAccessorImpl.invoke(DelegatingMethodAccessorImpl.java:43)\r\n\tat java.base/java.lang.reflect.Method.invoke(Method.java:566)\r\n\tat py4j.reflection.MethodInvoker.invoke(MethodInvoker.java:244)\r\n\tat py4j.reflection.ReflectionEngine.invoke(ReflectionEngine.java:357)\r\n\tat py4j.Gateway.invoke(Gateway.java:282)\r\n\tat py4j.commands.AbstractCommand.invokeMethod(AbstractCommand.java:132)\r\n\tat py4j.commands.CallCommand.execute(CallCommand.java:79)\r\n\tat py4j.GatewayConnection.run(GatewayConnection.java:238)\r\n\tat java.base/java.lang.Thread.run(Thread.java:834)\r\n"
     ]
    }
   ],
   "source": [
    "state.draw()"
   ]
  },
  {
   "cell_type": "code",
   "execution_count": 53,
   "metadata": {},
   "outputs": [
    {
     "data": {
      "text/plain": [
       "JavaObject id=o296"
      ]
     },
     "execution_count": 53,
     "metadata": {},
     "output_type": "execute_result"
    }
   ],
   "source": [
    "(state.getpBottom())"
   ]
  },
  {
   "cell_type": "code",
   "execution_count": 29,
   "metadata": {},
   "outputs": [
    {
     "data": {
      "text/plain": [
       "[0, 0]"
      ]
     },
     "execution_count": 29,
     "metadata": {},
     "output_type": "execute_result"
    }
   ],
   "source": [
    "list(list([list(item) for item in list(state.getpBottom())][0])[0])"
   ]
  },
  {
   "cell_type": "code",
   "execution_count": 52,
   "metadata": {},
   "outputs": [
    {
     "data": {
      "text/plain": [
       "<py4j.java_gateway.JavaMember at 0x203fdbec128>"
      ]
     },
     "execution_count": 52,
     "metadata": {},
     "output_type": "execute_result"
    }
   ],
   "source": [
    "state.ROWS"
   ]
  },
  {
   "cell_type": "code",
   "execution_count": 43,
   "metadata": {},
   "outputs": [
    {
     "ename": "NameError",
     "evalue": "name 'ROWS' is not defined",
     "output_type": "error",
     "traceback": [
      "\u001b[1;31m---------------------------------------------------------------------------\u001b[0m",
      "\u001b[1;31mNameError\u001b[0m                                 Traceback (most recent call last)",
      "\u001b[1;32m<ipython-input-43-9387ab839eae>\u001b[0m in \u001b[0;36m<module>\u001b[1;34m\u001b[0m\n\u001b[1;32m----> 1\u001b[1;33m \u001b[0mgateway\u001b[0m\u001b[1;33m.\u001b[0m\u001b[0mget_field\u001b[0m\u001b[1;33m(\u001b[0m\u001b[0mstate\u001b[0m\u001b[1;33m,\u001b[0m \u001b[0mROWS\u001b[0m\u001b[1;33m)\u001b[0m\u001b[1;33m\u001b[0m\u001b[0m\n\u001b[0m",
      "\u001b[1;31mNameError\u001b[0m: name 'ROWS' is not defined"
     ]
    }
   ],
   "source": [
    "gateway.get_field(state, ROWS)"
   ]
  },
  {
   "cell_type": "code",
   "execution_count": 46,
   "metadata": {},
   "outputs": [
    {
     "ename": "AttributeError",
     "evalue": "'JavaMember' object has no attribute '_get_object_id'",
     "output_type": "error",
     "traceback": [
      "\u001b[1;31m---------------------------------------------------------------------------\u001b[0m",
      "\u001b[1;31mAttributeError\u001b[0m                            Traceback (most recent call last)",
      "\u001b[1;32m<ipython-input-46-ff911bb721eb>\u001b[0m in \u001b[0;36m<module>\u001b[1;34m\u001b[0m\n\u001b[1;32m----> 1\u001b[1;33m \u001b[0mgateway\u001b[0m\u001b[1;33m.\u001b[0m\u001b[0mjvm\u001b[0m\u001b[1;33m.\u001b[0m\u001b[0mint\u001b[0m\u001b[1;33m(\u001b[0m\u001b[0mstate\u001b[0m\u001b[1;33m.\u001b[0m\u001b[0mROWS\u001b[0m\u001b[1;33m)\u001b[0m\u001b[1;33m\u001b[0m\u001b[0m\n\u001b[0m",
      "\u001b[1;32m~\\Anaconda3\\envs\\rl\\lib\\site-packages\\py4j\\java_gateway.py\u001b[0m in \u001b[0;36m__call__\u001b[1;34m(self, *args)\u001b[0m\n\u001b[0;32m   1543\u001b[0m \u001b[1;33m\u001b[0m\u001b[0m\n\u001b[0;32m   1544\u001b[0m         args_command = \"\".join(\n\u001b[1;32m-> 1545\u001b[1;33m             [get_command_part(arg, self._pool) for arg in new_args])\n\u001b[0m\u001b[0;32m   1546\u001b[0m \u001b[1;33m\u001b[0m\u001b[0m\n\u001b[0;32m   1547\u001b[0m         \u001b[0mcommand\u001b[0m \u001b[1;33m=\u001b[0m \u001b[0mproto\u001b[0m\u001b[1;33m.\u001b[0m\u001b[0mCONSTRUCTOR_COMMAND_NAME\u001b[0m \u001b[1;33m+\u001b[0m\u001b[0;31m\\\u001b[0m\u001b[1;33m\u001b[0m\u001b[0m\n",
      "\u001b[1;32m~\\Anaconda3\\envs\\rl\\lib\\site-packages\\py4j\\java_gateway.py\u001b[0m in \u001b[0;36m<listcomp>\u001b[1;34m(.0)\u001b[0m\n\u001b[0;32m   1543\u001b[0m \u001b[1;33m\u001b[0m\u001b[0m\n\u001b[0;32m   1544\u001b[0m         args_command = \"\".join(\n\u001b[1;32m-> 1545\u001b[1;33m             [get_command_part(arg, self._pool) for arg in new_args])\n\u001b[0m\u001b[0;32m   1546\u001b[0m \u001b[1;33m\u001b[0m\u001b[0m\n\u001b[0;32m   1547\u001b[0m         \u001b[0mcommand\u001b[0m \u001b[1;33m=\u001b[0m \u001b[0mproto\u001b[0m\u001b[1;33m.\u001b[0m\u001b[0mCONSTRUCTOR_COMMAND_NAME\u001b[0m \u001b[1;33m+\u001b[0m\u001b[0;31m\\\u001b[0m\u001b[1;33m\u001b[0m\u001b[0m\n",
      "\u001b[1;32m~\\Anaconda3\\envs\\rl\\lib\\site-packages\\py4j\\protocol.py\u001b[0m in \u001b[0;36mget_command_part\u001b[1;34m(parameter, python_proxy_pool)\u001b[0m\n\u001b[0;32m    296\u001b[0m             \u001b[0mcommand_part\u001b[0m \u001b[1;33m+=\u001b[0m \u001b[1;34m\";\"\u001b[0m \u001b[1;33m+\u001b[0m \u001b[0minterface\u001b[0m\u001b[1;33m\u001b[0m\u001b[0m\n\u001b[0;32m    297\u001b[0m     \u001b[1;32melse\u001b[0m\u001b[1;33m:\u001b[0m\u001b[1;33m\u001b[0m\u001b[0m\n\u001b[1;32m--> 298\u001b[1;33m         \u001b[0mcommand_part\u001b[0m \u001b[1;33m=\u001b[0m \u001b[0mREFERENCE_TYPE\u001b[0m \u001b[1;33m+\u001b[0m \u001b[0mparameter\u001b[0m\u001b[1;33m.\u001b[0m\u001b[0m_get_object_id\u001b[0m\u001b[1;33m(\u001b[0m\u001b[1;33m)\u001b[0m\u001b[1;33m\u001b[0m\u001b[0m\n\u001b[0m\u001b[0;32m    299\u001b[0m \u001b[1;33m\u001b[0m\u001b[0m\n\u001b[0;32m    300\u001b[0m     \u001b[0mcommand_part\u001b[0m \u001b[1;33m+=\u001b[0m \u001b[1;34m\"\\n\"\u001b[0m\u001b[1;33m\u001b[0m\u001b[0m\n",
      "\u001b[1;31mAttributeError\u001b[0m: 'JavaMember' object has no attribute '_get_object_id'"
     ]
    }
   ],
   "source": [
    "gateway."
   ]
  },
  {
   "cell_type": "code",
   "execution_count": null,
   "metadata": {},
   "outputs": [],
   "source": []
  }
 ],
 "metadata": {
  "kernelspec": {
   "display_name": "Python 3",
   "language": "python",
   "name": "python3"
  },
  "language_info": {
   "codemirror_mode": {
    "name": "ipython",
    "version": 3
   },
   "file_extension": ".py",
   "mimetype": "text/x-python",
   "name": "python",
   "nbconvert_exporter": "python",
   "pygments_lexer": "ipython3",
   "version": "3.6.6"
  }
 },
 "nbformat": 4,
 "nbformat_minor": 2
}
